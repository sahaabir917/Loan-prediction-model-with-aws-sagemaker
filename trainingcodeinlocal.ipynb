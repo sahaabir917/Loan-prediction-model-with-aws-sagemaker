{
 "cells": [
  {
   "cell_type": "code",
   "execution_count": 1,
   "id": "427c2974-ba66-4b89-88db-9c2a866d072e",
   "metadata": {},
   "outputs": [
    {
     "name": "stdout",
     "output_type": "stream",
     "text": [
      "First 5 rows of the dataset:\n",
      "   credit.policy             purpose  int.rate  installment  log.annual.inc  \\\n",
      "0              1  debt_consolidation    0.1189       829.10       11.350407   \n",
      "1              1         credit_card    0.1071       228.22       11.082143   \n",
      "2              1  debt_consolidation    0.1357       366.86       10.373491   \n",
      "3              1  debt_consolidation    0.1008       162.34       11.350407   \n",
      "4              1         credit_card    0.1426       102.92       11.299732   \n",
      "\n",
      "     dti  fico  days.with.cr.line  revol.bal  revol.util  inq.last.6mths  \\\n",
      "0  19.48   737        5639.958333      28854        52.1               0   \n",
      "1  14.29   707        2760.000000      33623        76.7               0   \n",
      "2  11.63   682        4710.000000       3511        25.6               1   \n",
      "3   8.10   712        2699.958333      33667        73.2               1   \n",
      "4  14.97   667        4066.000000       4740        39.5               0   \n",
      "\n",
      "   delinq.2yrs  pub.rec  not.fully.paid  \n",
      "0            0        0               0  \n",
      "1            0        0               0  \n",
      "2            0        0               0  \n",
      "3            0        0               0  \n",
      "4            1        0               0  \n"
     ]
    }
   ],
   "source": [
    "import pandas as pd\n",
    "import numpy as np\n",
    "from sklearn.model_selection import train_test_split\n",
    "from sklearn.utils import shuffle\n",
    "from sklearn.metrics import accuracy_score, classification_report, confusion_matrix\n",
    "from xgboost import XGBClassifier\n",
    "from sklearn.linear_model import LogisticRegression\n",
    "from sklearn.ensemble import RandomForestClassifier\n",
    "\n",
    "# Specify the file path (change this to the path where your CSV file is located)\n",
    "file_path = 'loan_data.csv' \n",
    "\n",
    "# Read the CSV file into a DataFrame\n",
    "df = pd.read_csv(file_path)\n",
    "\n",
    "# Display the first few rows of the DataFrame to ensure it's loaded correctly\n",
    "print(\"First 5 rows of the dataset:\")\n",
    "print(df.head())"
   ]
  },
  {
   "cell_type": "code",
   "execution_count": 2,
   "id": "2f55e0ef-0b1f-4612-9884-a60c1d45c7f5",
   "metadata": {},
   "outputs": [],
   "source": [
    "# Handle missing values\n",
    "for col in df.columns:\n",
    "    if df[col].dtype == 'object':\n",
    "        df[col] = df[col].fillna(df[col].mode()[0])\n",
    "    else:\n",
    "        df[col] = df[col].fillna(df[col].median())"
   ]
  },
  {
   "cell_type": "code",
   "execution_count": 3,
   "id": "b72fbf4b-33b8-44b4-bd21-4ee308c3f060",
   "metadata": {},
   "outputs": [],
   "source": [
    "# Encode categorical variables\n",
    "df = pd.get_dummies(df, columns=['purpose'], drop_first=True)\n",
    "\n",
    "# Split into test set and the rest\n",
    "X = df.drop('not.fully.paid', axis=1)\n",
    "y = df['not.fully.paid']\n",
    "_, X_test, _, y_test = train_test_split(X, y, test_size=0.2, stratify=y, random_state=42)\n",
    "\n",
    "# Separate class 0 and class 1\n",
    "class_0 = df[df['not.fully.paid'] == 0].reset_index(drop=True)\n",
    "class_1 = df[df['not.fully.paid'] == 1].reset_index(drop=True)\n",
    "\n",
    "X_0 = class_0.drop('not.fully.paid', axis=1)\n",
    "y_0 = class_0['not.fully.paid']\n",
    "X_1 = class_1.drop('not.fully.paid', axis=1)\n",
    "y_1 = class_1['not.fully.paid']"
   ]
  },
  {
   "cell_type": "code",
   "execution_count": 4,
   "id": "8d024b16-a08a-4f32-a2a2-3cf5bdea4098",
   "metadata": {},
   "outputs": [],
   "source": [
    "ratio = 2\n",
    "threshold = 0.46\n",
    "seeds = [10]\n",
    "ann_accuracies = []"
   ]
  },
  {
   "cell_type": "code",
   "execution_count": 5,
   "id": "81cde65e-9858-49f5-a75b-390a53240837",
   "metadata": {},
   "outputs": [
    {
     "name": "stdout",
     "output_type": "stream",
     "text": [
      "\n",
      " Artificial Neural Network (1:2 Balanced Sampling)\n",
      " Ratio Used: 1:2\n",
      " Threshold Used: 0.46\n",
      "\n",
      " Iteration 1\n"
     ]
    },
    {
     "name": "stderr",
     "output_type": "stream",
     "text": [
      "C:\\Users\\sahaa\\anaconda3\\Lib\\site-packages\\keras\\src\\layers\\core\\dense.py:87: UserWarning: Do not pass an `input_shape`/`input_dim` argument to a layer. When using Sequential models, prefer using an `Input(shape)` object as the first layer in the model instead.\n",
      "  super().__init__(activity_regularizer=activity_regularizer, **kwargs)\n",
      "C:\\Users\\sahaa\\anaconda3\\Lib\\site-packages\\keras\\src\\callbacks\\early_stopping.py:153: UserWarning: Early stopping conditioned on metric `val_loss` which is not available. Available metrics are: accuracy,loss\n",
      "  current = self.get_monitor_value(logs)\n"
     ]
    },
    {
     "name": "stdout",
     "output_type": "stream",
     "text": [
      "\u001b[1m60/60\u001b[0m \u001b[32m━━━━━━━━━━━━━━━━━━━━\u001b[0m\u001b[37m\u001b[0m \u001b[1m0s\u001b[0m 5ms/step\n",
      " Accuracy: 0.7943632567849687\n",
      " Confusion Matrix:\n",
      " [[1361  248]\n",
      " [ 146  161]]\n",
      " Classification Report:\n",
      "               precision    recall  f1-score   support\n",
      "\n",
      "           0       0.90      0.85      0.87      1609\n",
      "           1       0.39      0.52      0.45       307\n",
      "\n",
      "    accuracy                           0.79      1916\n",
      "   macro avg       0.65      0.69      0.66      1916\n",
      "weighted avg       0.82      0.79      0.81      1916\n",
      "\n",
      "------------------------------------------------------------\n"
     ]
    }
   ],
   "source": [
    "import tensorflow as tf\n",
    "from tensorflow.keras.models import Sequential\n",
    "from tensorflow.keras.layers import Dense\n",
    "from tensorflow.keras.optimizers import Adam\n",
    "from tensorflow.keras.callbacks import EarlyStopping\n",
    "\n",
    "print(\"\\n Artificial Neural Network (1:2 Balanced Sampling)\")\n",
    "print(f\" Ratio Used: 1:{ratio}\")\n",
    "print(f\" Threshold Used: {threshold}\\n\")\n",
    "\n",
    "for i, seed in enumerate(seeds):\n",
    "    print(f\" Iteration {i+1}\")\n",
    "\n",
    "    tf.random.set_seed(seed)\n",
    "    np.random.seed(seed)\n",
    "\n",
    "    X_0_sampled = X_0.sample(n=ratio * len(class_1), random_state=seed)\n",
    "    y_0_sampled = y_0.loc[X_0_sampled.index]\n",
    "    X_balanced = pd.concat([X_0_sampled, X_1])\n",
    "    y_balanced = pd.concat([y_0_sampled, y_1])\n",
    "    X_balanced, y_balanced = shuffle(X_balanced, y_balanced, random_state=seed)\n",
    "\n",
    "    # Normalize features\n",
    "    from sklearn.preprocessing import StandardScaler\n",
    "    scaler = StandardScaler()\n",
    "    X_balanced = scaler.fit_transform(X_balanced)\n",
    "    X_test_scaled = scaler.transform(X_test)\n",
    "\n",
    "    # Build model\n",
    "    model = Sequential([\n",
    "        Dense(64, activation='relu', input_shape=(X_balanced.shape[1],)),\n",
    "        Dense(32, activation='relu'),\n",
    "        Dense(1, activation='sigmoid')\n",
    "    ])\n",
    "    model.compile(optimizer=Adam(learning_rate=0.001), loss='binary_crossentropy', metrics=['accuracy'])\n",
    "\n",
    "    # Fit model with early stopping\n",
    "    model.fit(X_balanced, y_balanced, epochs=50, batch_size=32, verbose=0,\n",
    "              callbacks=[EarlyStopping(patience=5, restore_best_weights=True)])\n",
    "\n",
    "    # Predict\n",
    "    y_probs = model.predict(X_test_scaled).flatten()\n",
    "    y_pred = (y_probs >= threshold).astype(int)\n",
    "\n",
    "    # Evaluate\n",
    "    accuracy = accuracy_score(y_test, y_pred)\n",
    "    cm = confusion_matrix(y_test, y_pred)\n",
    "    report = classification_report(y_test, y_pred)\n",
    "\n",
    "    print(\" Accuracy:\", accuracy)\n",
    "    print(\" Confusion Matrix:\\n\", cm)\n",
    "    print(\" Classification Report:\\n\", report)\n",
    "    print(\"-\" * 60)\n",
    "\n",
    "    ann_accuracies.append(accuracy)"
   ]
  },
  {
   "cell_type": "code",
   "execution_count": null,
   "id": "5135ec2d-f5b5-4ab6-b70d-8269465d5f5d",
   "metadata": {},
   "outputs": [],
   "source": []
  }
 ],
 "metadata": {
  "kernelspec": {
   "display_name": "Python [conda env:base] *",
   "language": "python",
   "name": "conda-base-py"
  },
  "language_info": {
   "codemirror_mode": {
    "name": "ipython",
    "version": 3
   },
   "file_extension": ".py",
   "mimetype": "text/x-python",
   "name": "python",
   "nbconvert_exporter": "python",
   "pygments_lexer": "ipython3",
   "version": "3.12.7"
  }
 },
 "nbformat": 4,
 "nbformat_minor": 5
}
